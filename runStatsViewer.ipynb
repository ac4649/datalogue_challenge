{
 "cells": [
  {
   "cell_type": "code",
   "execution_count": 210,
   "metadata": {},
   "outputs": [],
   "source": [
    "%matplotlib inline\n",
    "import pandas as pd\n",
    "import os"
   ]
  },
  {
   "cell_type": "code",
   "execution_count": 279,
   "metadata": {
    "scrolled": true
   },
   "outputs": [
    {
     "name": "stderr",
     "output_type": "stream",
     "text": [
      "/Users/adriencogny/anaconda3/lib/python3.6/site-packages/ipykernel_launcher.py:86: RuntimeWarning: invalid value encountered in double_scalars\n"
     ]
    }
   ],
   "source": [
    "stats = pd.DataFrame(index=[i for i in range(40)],columns=['type','test','filename','maxEpochs','num_layers','embeddingSize','hiddenDim','train_loss','accuracy','truePos','trueNeg','falsePos','falseNeg','tpr','prec'])\n",
    "\n",
    "# stats = pd.DataFrame(index=[i for i in range(40)],columns=['type','test','filename','n_estimators','accuracy','truePos','trueNeg','falsePos','falseNeg','tpr','prec'])\n",
    "\n",
    "filenames = [\n",
    "    'Results/RNN/hidden_dimm/hidden_dimm_stats0.csv',\n",
    "    'Results/RNN/hidden_dimm/hidden_dimm_stats1.csv',\n",
    "    'Results/RNN/hidden_dimm/hidden_dimm_stats2.csv',\n",
    "    'Results/RNN/hidden_dimm/hidden_dimm_stats3.csv',\n",
    "    'Results/RNN/hidden_dimm/hidden_dimm_stats4.csv',\n",
    "    'Results/RNN/hidden_dimm/hidden_dimm_stats5.csv',\n",
    "    'Results/RNN/hidden_dimm/hidden_dimm_stats6.csv',\n",
    "    'Results/RNN/hidden_dimm/hidden_dimm_stats7.csv',\n",
    "    'Results/RNN/hidden_dimm/hidden_dimm_stats8.csv',\n",
    "    'Results/RNN/hidden_dimm/hidden_dimm_stats9.csv',\n",
    "    \n",
    "    'Results/RNN/embedding_dimm/embedd_size_stats50.csv',\n",
    "    'Results/RNN/embedding_dimm/embedd_size_stats100.csv',\n",
    "    'Results/RNN/embedding_dimm/embedd_size_stats200.csv',\n",
    "    'Results/RNN/embedding_dimm/embedd_size_stats300.csv',\n",
    "    \n",
    "    'Results/RNN/maxEpoch/train_maxEpoch_stats1.csv',\n",
    "    'Results/RNN/maxEpoch/train_maxEpoch_stats100.csv',\n",
    "    'Results/RNN/maxEpoch/train_maxEpoch_stats150.csv',\n",
    "    'Results/RNN/maxEpoch/train_maxEpoch_stats200.csv',\n",
    "    'Results/RNN/maxEpoch/train_maxEpoch_stats250.csv',\n",
    "    'Results/RNN/maxEpoch/train_maxEpoch_stats300.csv',\n",
    "    'Results/RNN/maxEpoch/train_maxEpoch_stats350.csv',\n",
    "    'Results/RNN/maxEpoch/train_maxEpoch_stats400.csv',\n",
    "    'Results/RNN/maxEpoch/train_maxEpoch_stats450.csv',\n",
    "    'Results/RNN/maxEpoch/train_maxEpoch_stats500.csv',\n",
    "    'Results/RNN/maxEpoch/train_maxEpoch_stats1000.csv',\n",
    "    'Results/RNN/maxEpoch/train_maxEpoch_stats2000.csv',\n",
    "    'Results/RNN/maxEpoch/train_maxEpoch_stats3000.csv',\n",
    "    'Results/RNN/maxEpoch/train_maxEpoch_stats4000.csv',\n",
    "    \n",
    "#     'Results/RandomForest/sum/randomFores_1_estimators',\n",
    "#     'Results/RandomForest/sum/randomFores_2_estimators',\n",
    "#     'Results/RandomForest/sum/randomFores_3_estimators',\n",
    "#     'Results/RandomForest/sum/randomFores_4_estimators',\n",
    "#     'Results/RandomForest/sum/randomFores_5_estimators',\n",
    "#     'Results/RandomForest/sum/randomFores_6_estimators',\n",
    "#     'Results/RandomForest/sum/randomFores_7_estimators',\n",
    "#     'Results/RandomForest/sum/randomFores_8_estimators',\n",
    "#     'Results/RandomForest/sum/randomFores_9_estimators',\n",
    "#     'Results/RandomForest/sum/randomFores_10_estimators',\n",
    "#     'Results/RandomForest/sum/randomFores_11_estimators',\n",
    "#     'Results/RandomForest/sum/randomFores_12_estimators',\n",
    "#     'Results/RandomForest/sum/randomFores_13_estimators',\n",
    "#     'Results/RandomForest/sum/randomFores_14_estimators',\n",
    "#     'Results/RandomForest/sum/randomFores_15_estimators',\n",
    "#     'Results/RandomForest/sum/randomFores_16_estimators',\n",
    "#     'Results/RandomForest/sum/randomFores_17_estimators',\n",
    "#     'Results/RandomForest/sum/randomFores_18_estimators',\n",
    "#     'Results/RandomForest/sum/randomFores_19_estimators',\n",
    "#     'Results/RandomForest/sum/randomFores_20_estimators',\n",
    "# #     \n",
    "#     'Results/RandomForest/mean/randomForest_meanNotSum_1_estimators',\n",
    "#     'Results/RandomForest/mean/randomForest_meanNotSum_2_estimators',\n",
    "#     'Results/RandomForest/mean/randomForest_meanNotSum_3_estimators',\n",
    "#     'Results/RandomForest/mean/randomForest_meanNotSum_4_estimators',\n",
    "#     'Results/RandomForest/mean/randomForest_meanNotSum_5_estimators',\n",
    "#     'Results/RandomForest/mean/randomForest_meanNotSum_6_estimators',\n",
    "#     'Results/RandomForest/mean/randomForest_meanNotSum_7_estimators',\n",
    "#     'Results/RandomForest/mean/randomForest_meanNotSum_8_estimators',\n",
    "#     'Results/RandomForest/mean/randomForest_meanNotSum_9_estimators',\n",
    "#     'Results/RandomForest/mean/randomForest_meanNotSum_10_estimators',\n",
    "#     'Results/RandomForest/mean/randomForest_meanNotSum_11_estimators',\n",
    "#     'Results/RandomForest/mean/randomForest_meanNotSum_12_estimators',\n",
    "#     'Results/RandomForest/mean/randomForest_meanNotSum_13_estimators',\n",
    "#     'Results/RandomForest/mean/randomForest_meanNotSum_14_estimators',\n",
    "#     'Results/RandomForest/mean/randomForest_meanNotSum_15_estimators',\n",
    "#     'Results/RandomForest/mean/randomForest_meanNotSum_16_estimators',\n",
    "#     'Results/RandomForest/mean/randomForest_meanNotSum_17_estimators',\n",
    "#     'Results/RandomForest/mean/randomForest_meanNotSum_18_estimators',\n",
    "#     'Results/RandomForest/mean/randomForest_meanNotSum_19_estimators',\n",
    "#     'Results/RandomForest/mean/randomForest_meanNotSum_20_estimators',\n",
    "]\n",
    "i = 0\n",
    "for file in filenames:\n",
    "    df = pd.read_csv(file,index_col=0)\n",
    "    stats.iloc[i]=df.mean()\n",
    "    stats.iloc[i]['type'] = file.split('/')[1]\n",
    "    stats.iloc[i]['test'] = file.split('/')[2]\n",
    "    stats.iloc[i]['filename'] = file.split('/')[3]\n",
    "    stats.iloc[i]['tpr'] = df.mean()['truePos'] / (df.mean()['truePos'] + df.mean()['falseNeg'])\n",
    "    stats.iloc[i]['prec'] = df.mean()['truePos'] / (df.mean()['truePos'] + df.mean()['falsePos'])\n",
    "\n",
    "\n",
    "    i = i+1\n"
   ]
  },
  {
   "cell_type": "code",
   "execution_count": 280,
   "metadata": {},
   "outputs": [
    {
     "data": {
      "text/html": [
       "<div>\n",
       "<style scoped>\n",
       "    .dataframe tbody tr th:only-of-type {\n",
       "        vertical-align: middle;\n",
       "    }\n",
       "\n",
       "    .dataframe tbody tr th {\n",
       "        vertical-align: top;\n",
       "    }\n",
       "\n",
       "    .dataframe thead th {\n",
       "        text-align: right;\n",
       "    }\n",
       "</style>\n",
       "<table border=\"1\" class=\"dataframe\">\n",
       "  <thead>\n",
       "    <tr style=\"text-align: right;\">\n",
       "      <th></th>\n",
       "      <th>type</th>\n",
       "      <th>test</th>\n",
       "      <th>filename</th>\n",
       "      <th>maxEpochs</th>\n",
       "      <th>num_layers</th>\n",
       "      <th>embeddingSize</th>\n",
       "      <th>hiddenDim</th>\n",
       "      <th>train_loss</th>\n",
       "      <th>accuracy</th>\n",
       "      <th>truePos</th>\n",
       "      <th>trueNeg</th>\n",
       "      <th>falsePos</th>\n",
       "      <th>falseNeg</th>\n",
       "      <th>tpr</th>\n",
       "      <th>prec</th>\n",
       "    </tr>\n",
       "  </thead>\n",
       "  <tbody>\n",
       "    <tr>\n",
       "      <th>0</th>\n",
       "      <td>RNN</td>\n",
       "      <td>hidden_dimm</td>\n",
       "      <td>hidden_dimm_stats0.csv</td>\n",
       "      <td>400</td>\n",
       "      <td>1</td>\n",
       "      <td>50</td>\n",
       "      <td>0</td>\n",
       "      <td>36.1499</td>\n",
       "      <td>0.716667</td>\n",
       "      <td>0</td>\n",
       "      <td>17.2</td>\n",
       "      <td>6.8</td>\n",
       "      <td>0</td>\n",
       "      <td>NaN</td>\n",
       "      <td>0</td>\n",
       "    </tr>\n",
       "    <tr>\n",
       "      <th>1</th>\n",
       "      <td>RNN</td>\n",
       "      <td>hidden_dimm</td>\n",
       "      <td>hidden_dimm_stats1.csv</td>\n",
       "      <td>400</td>\n",
       "      <td>1</td>\n",
       "      <td>50</td>\n",
       "      <td>1</td>\n",
       "      <td>5.5576</td>\n",
       "      <td>0.579167</td>\n",
       "      <td>2.2</td>\n",
       "      <td>11.7</td>\n",
       "      <td>5.5</td>\n",
       "      <td>4.6</td>\n",
       "      <td>0.323529</td>\n",
       "      <td>0.285714</td>\n",
       "    </tr>\n",
       "    <tr>\n",
       "      <th>2</th>\n",
       "      <td>RNN</td>\n",
       "      <td>hidden_dimm</td>\n",
       "      <td>hidden_dimm_stats2.csv</td>\n",
       "      <td>400</td>\n",
       "      <td>1</td>\n",
       "      <td>50</td>\n",
       "      <td>2</td>\n",
       "      <td>0.886681</td>\n",
       "      <td>0.504167</td>\n",
       "      <td>2.6</td>\n",
       "      <td>9.5</td>\n",
       "      <td>5.7</td>\n",
       "      <td>6.2</td>\n",
       "      <td>0.295455</td>\n",
       "      <td>0.313253</td>\n",
       "    </tr>\n",
       "    <tr>\n",
       "      <th>3</th>\n",
       "      <td>RNN</td>\n",
       "      <td>hidden_dimm</td>\n",
       "      <td>hidden_dimm_stats3.csv</td>\n",
       "      <td>400</td>\n",
       "      <td>1</td>\n",
       "      <td>50</td>\n",
       "      <td>3</td>\n",
       "      <td>0.00841726</td>\n",
       "      <td>0.591667</td>\n",
       "      <td>2.4</td>\n",
       "      <td>11.8</td>\n",
       "      <td>5.3</td>\n",
       "      <td>4.5</td>\n",
       "      <td>0.347826</td>\n",
       "      <td>0.311688</td>\n",
       "    </tr>\n",
       "    <tr>\n",
       "      <th>4</th>\n",
       "      <td>RNN</td>\n",
       "      <td>hidden_dimm</td>\n",
       "      <td>hidden_dimm_stats4.csv</td>\n",
       "      <td>400</td>\n",
       "      <td>1</td>\n",
       "      <td>50</td>\n",
       "      <td>4</td>\n",
       "      <td>0.00756414</td>\n",
       "      <td>0.483333</td>\n",
       "      <td>2</td>\n",
       "      <td>9.6</td>\n",
       "      <td>5.1</td>\n",
       "      <td>7.3</td>\n",
       "      <td>0.215054</td>\n",
       "      <td>0.28169</td>\n",
       "    </tr>\n",
       "  </tbody>\n",
       "</table>\n",
       "</div>"
      ],
      "text/plain": [
       "  type         test                filename maxEpochs num_layers  \\\n",
       "0  RNN  hidden_dimm  hidden_dimm_stats0.csv       400          1   \n",
       "1  RNN  hidden_dimm  hidden_dimm_stats1.csv       400          1   \n",
       "2  RNN  hidden_dimm  hidden_dimm_stats2.csv       400          1   \n",
       "3  RNN  hidden_dimm  hidden_dimm_stats3.csv       400          1   \n",
       "4  RNN  hidden_dimm  hidden_dimm_stats4.csv       400          1   \n",
       "\n",
       "  embeddingSize hiddenDim  train_loss  accuracy truePos trueNeg falsePos  \\\n",
       "0            50         0     36.1499  0.716667       0    17.2      6.8   \n",
       "1            50         1      5.5576  0.579167     2.2    11.7      5.5   \n",
       "2            50         2    0.886681  0.504167     2.6     9.5      5.7   \n",
       "3            50         3  0.00841726  0.591667     2.4    11.8      5.3   \n",
       "4            50         4  0.00756414  0.483333       2     9.6      5.1   \n",
       "\n",
       "  falseNeg       tpr      prec  \n",
       "0        0       NaN         0  \n",
       "1      4.6  0.323529  0.285714  \n",
       "2      6.2  0.295455  0.313253  \n",
       "3      4.5  0.347826  0.311688  \n",
       "4      7.3  0.215054   0.28169  "
      ]
     },
     "execution_count": 280,
     "metadata": {},
     "output_type": "execute_result"
    }
   ],
   "source": [
    "stats.head()"
   ]
  },
  {
   "cell_type": "code",
   "execution_count": 283,
   "metadata": {},
   "outputs": [
    {
     "name": "stderr",
     "output_type": "stream",
     "text": [
      "/Users/adriencogny/anaconda3/lib/python3.6/site-packages/pandas/plotting/_core.py:1716: UserWarning: Pandas doesn't allow columns to be created via a new attribute name - see https://pandas.pydata.org/pandas-docs/stable/indexing.html#attribute-access\n",
      "  series.name = label\n"
     ]
    },
    {
     "data": {
      "text/plain": [
       "<matplotlib.axes._subplots.AxesSubplot at 0x1218650f0>"
      ]
     },
     "execution_count": 283,
     "metadata": {},
     "output_type": "execute_result"
    },
    {
     "data": {
      "image/png": "[encoded data removed]",
      "text/plain": [
       "<Figure size 432x288 with 1 Axes>"
      ]
     },
     "metadata": {},
     "output_type": "display_data"
    },
    {
     "data": {
      "image/png": "[encoded data removed]",
      "text/plain": [
       "<Figure size 432x288 with 1 Axes>"
      ]
     },
     "metadata": {},
     "output_type": "display_data"
    }
   ],
   "source": [
    "# plt = stats[stats['test'] == 'sum']['truePos'].plot() # create sub-plots for \n",
    "# stats.groupby('test').plot(x='n_estimators',y=['truePos','falsePos'])\n",
    "stats[stats['test'] == 'hidden_dimm'].plot(x='hiddenDim',y=['truePos','falseNeg'])\n",
    "stats[stats['test'] == 'hidden_dimm'].plot(x='hiddenDim',y=['tpr','accuracy'])\n"
   ]
  },
  {
   "cell_type": "code",
   "execution_count": null,
   "metadata": {},
   "outputs": [],
   "source": []
  },
  {
   "cell_type": "code",
   "execution_count": null,
   "metadata": {},
   "outputs": [],
   "source": []
  }
 ],
 "metadata": {
  "kernelspec": {
   "display_name": "Python 3",
   "language": "python",
   "name": "python3"
  },
  "language_info": {
   "codemirror_mode": {
    "name": "ipython",
    "version": 3
   },
   "file_extension": ".py",
   "mimetype": "text/x-python",
   "name": "python",
   "nbconvert_exporter": "python",
   "pygments_lexer": "ipython3",
   "version": "3.6.5"
  }
 },
 "nbformat": 4,
 "nbformat_minor": 2
}
