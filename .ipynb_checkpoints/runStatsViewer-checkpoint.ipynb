{
 "cells": [
  {
   "cell_type": "code",
   "execution_count": 305,
   "metadata": {},
   "outputs": [],
   "source": [
    "%matplotlib inline\n",
    "import pandas as pd\n",
    "import os"
   ]
  },
  {
   "cell_type": "code",
   "execution_count": 306,
   "metadata": {
    "scrolled": true
   },
   "outputs": [
    {
     "name": "stderr",
     "output_type": "stream",
     "text": [
      "/Users/adriencogny/anaconda3/lib/python3.6/site-packages/ipykernel_launcher.py:86: RuntimeWarning: invalid value encountered in double_scalars\n"
     ]
    },
    {
     "ename": "FileNotFoundError",
     "evalue": "File b'Results/RNN/embedding_dimm/embedd_size_stats200.csv' does not exist",
     "output_type": "error",
     "traceback": [
      "\u001b[0;31m---------------------------------------------------------------------------\u001b[0m",
      "\u001b[0;31mFileNotFoundError\u001b[0m                         Traceback (most recent call last)",
      "\u001b[0;32m<ipython-input-306-ba95c4694570>\u001b[0m in \u001b[0;36m<module>\u001b[0;34m()\u001b[0m\n\u001b[1;32m     79\u001b[0m \u001b[0mi\u001b[0m \u001b[0;34m=\u001b[0m \u001b[0;36m0\u001b[0m\u001b[0;34m\u001b[0m\u001b[0m\n\u001b[1;32m     80\u001b[0m \u001b[0;32mfor\u001b[0m \u001b[0mfile\u001b[0m \u001b[0;32min\u001b[0m \u001b[0mfilenames\u001b[0m\u001b[0;34m:\u001b[0m\u001b[0;34m\u001b[0m\u001b[0m\n\u001b[0;32m---> 81\u001b[0;31m     \u001b[0mdf\u001b[0m \u001b[0;34m=\u001b[0m \u001b[0mpd\u001b[0m\u001b[0;34m.\u001b[0m\u001b[0mread_csv\u001b[0m\u001b[0;34m(\u001b[0m\u001b[0mfile\u001b[0m\u001b[0;34m,\u001b[0m\u001b[0mindex_col\u001b[0m\u001b[0;34m=\u001b[0m\u001b[0;36m0\u001b[0m\u001b[0;34m)\u001b[0m\u001b[0;34m\u001b[0m\u001b[0m\n\u001b[0m\u001b[1;32m     82\u001b[0m     \u001b[0mstats\u001b[0m\u001b[0;34m.\u001b[0m\u001b[0miloc\u001b[0m\u001b[0;34m[\u001b[0m\u001b[0mi\u001b[0m\u001b[0;34m]\u001b[0m\u001b[0;34m=\u001b[0m\u001b[0mdf\u001b[0m\u001b[0;34m.\u001b[0m\u001b[0mmean\u001b[0m\u001b[0;34m(\u001b[0m\u001b[0;34m)\u001b[0m\u001b[0;34m\u001b[0m\u001b[0m\n\u001b[1;32m     83\u001b[0m     \u001b[0mstats\u001b[0m\u001b[0;34m.\u001b[0m\u001b[0miloc\u001b[0m\u001b[0;34m[\u001b[0m\u001b[0mi\u001b[0m\u001b[0;34m]\u001b[0m\u001b[0;34m[\u001b[0m\u001b[0;34m'type'\u001b[0m\u001b[0;34m]\u001b[0m \u001b[0;34m=\u001b[0m \u001b[0mfile\u001b[0m\u001b[0;34m.\u001b[0m\u001b[0msplit\u001b[0m\u001b[0;34m(\u001b[0m\u001b[0;34m'/'\u001b[0m\u001b[0;34m)\u001b[0m\u001b[0;34m[\u001b[0m\u001b[0;36m1\u001b[0m\u001b[0;34m]\u001b[0m\u001b[0;34m\u001b[0m\u001b[0m\n",
      "\u001b[0;32m~/anaconda3/lib/python3.6/site-packages/pandas/io/parsers.py\u001b[0m in \u001b[0;36mparser_f\u001b[0;34m(filepath_or_buffer, sep, delimiter, header, names, index_col, usecols, squeeze, prefix, mangle_dupe_cols, dtype, engine, converters, true_values, false_values, skipinitialspace, skiprows, nrows, na_values, keep_default_na, na_filter, verbose, skip_blank_lines, parse_dates, infer_datetime_format, keep_date_col, date_parser, dayfirst, iterator, chunksize, compression, thousands, decimal, lineterminator, quotechar, quoting, escapechar, comment, encoding, dialect, tupleize_cols, error_bad_lines, warn_bad_lines, skipfooter, skip_footer, doublequote, delim_whitespace, as_recarray, compact_ints, use_unsigned, low_memory, buffer_lines, memory_map, float_precision)\u001b[0m\n\u001b[1;32m    707\u001b[0m                     skip_blank_lines=skip_blank_lines)\n\u001b[1;32m    708\u001b[0m \u001b[0;34m\u001b[0m\u001b[0m\n\u001b[0;32m--> 709\u001b[0;31m         \u001b[0;32mreturn\u001b[0m \u001b[0m_read\u001b[0m\u001b[0;34m(\u001b[0m\u001b[0mfilepath_or_buffer\u001b[0m\u001b[0;34m,\u001b[0m \u001b[0mkwds\u001b[0m\u001b[0;34m)\u001b[0m\u001b[0;34m\u001b[0m\u001b[0m\n\u001b[0m\u001b[1;32m    710\u001b[0m \u001b[0;34m\u001b[0m\u001b[0m\n\u001b[1;32m    711\u001b[0m     \u001b[0mparser_f\u001b[0m\u001b[0;34m.\u001b[0m\u001b[0m__name__\u001b[0m \u001b[0;34m=\u001b[0m \u001b[0mname\u001b[0m\u001b[0;34m\u001b[0m\u001b[0m\n",
      "\u001b[0;32m~/anaconda3/lib/python3.6/site-packages/pandas/io/parsers.py\u001b[0m in \u001b[0;36m_read\u001b[0;34m(filepath_or_buffer, kwds)\u001b[0m\n\u001b[1;32m    447\u001b[0m \u001b[0;34m\u001b[0m\u001b[0m\n\u001b[1;32m    448\u001b[0m     \u001b[0;31m# Create the parser.\u001b[0m\u001b[0;34m\u001b[0m\u001b[0;34m\u001b[0m\u001b[0m\n\u001b[0;32m--> 449\u001b[0;31m     \u001b[0mparser\u001b[0m \u001b[0;34m=\u001b[0m \u001b[0mTextFileReader\u001b[0m\u001b[0;34m(\u001b[0m\u001b[0mfilepath_or_buffer\u001b[0m\u001b[0;34m,\u001b[0m \u001b[0;34m**\u001b[0m\u001b[0mkwds\u001b[0m\u001b[0;34m)\u001b[0m\u001b[0;34m\u001b[0m\u001b[0m\n\u001b[0m\u001b[1;32m    450\u001b[0m \u001b[0;34m\u001b[0m\u001b[0m\n\u001b[1;32m    451\u001b[0m     \u001b[0;32mif\u001b[0m \u001b[0mchunksize\u001b[0m \u001b[0;32mor\u001b[0m \u001b[0miterator\u001b[0m\u001b[0;34m:\u001b[0m\u001b[0;34m\u001b[0m\u001b[0m\n",
      "\u001b[0;32m~/anaconda3/lib/python3.6/site-packages/pandas/io/parsers.py\u001b[0m in \u001b[0;36m__init__\u001b[0;34m(self, f, engine, **kwds)\u001b[0m\n\u001b[1;32m    816\u001b[0m             \u001b[0mself\u001b[0m\u001b[0;34m.\u001b[0m\u001b[0moptions\u001b[0m\u001b[0;34m[\u001b[0m\u001b[0;34m'has_index_names'\u001b[0m\u001b[0;34m]\u001b[0m \u001b[0;34m=\u001b[0m \u001b[0mkwds\u001b[0m\u001b[0;34m[\u001b[0m\u001b[0;34m'has_index_names'\u001b[0m\u001b[0;34m]\u001b[0m\u001b[0;34m\u001b[0m\u001b[0m\n\u001b[1;32m    817\u001b[0m \u001b[0;34m\u001b[0m\u001b[0m\n\u001b[0;32m--> 818\u001b[0;31m         \u001b[0mself\u001b[0m\u001b[0;34m.\u001b[0m\u001b[0m_make_engine\u001b[0m\u001b[0;34m(\u001b[0m\u001b[0mself\u001b[0m\u001b[0;34m.\u001b[0m\u001b[0mengine\u001b[0m\u001b[0;34m)\u001b[0m\u001b[0;34m\u001b[0m\u001b[0m\n\u001b[0m\u001b[1;32m    819\u001b[0m \u001b[0;34m\u001b[0m\u001b[0m\n\u001b[1;32m    820\u001b[0m     \u001b[0;32mdef\u001b[0m \u001b[0mclose\u001b[0m\u001b[0;34m(\u001b[0m\u001b[0mself\u001b[0m\u001b[0;34m)\u001b[0m\u001b[0;34m:\u001b[0m\u001b[0;34m\u001b[0m\u001b[0m\n",
      "\u001b[0;32m~/anaconda3/lib/python3.6/site-packages/pandas/io/parsers.py\u001b[0m in \u001b[0;36m_make_engine\u001b[0;34m(self, engine)\u001b[0m\n\u001b[1;32m   1047\u001b[0m     \u001b[0;32mdef\u001b[0m \u001b[0m_make_engine\u001b[0m\u001b[0;34m(\u001b[0m\u001b[0mself\u001b[0m\u001b[0;34m,\u001b[0m \u001b[0mengine\u001b[0m\u001b[0;34m=\u001b[0m\u001b[0;34m'c'\u001b[0m\u001b[0;34m)\u001b[0m\u001b[0;34m:\u001b[0m\u001b[0;34m\u001b[0m\u001b[0m\n\u001b[1;32m   1048\u001b[0m         \u001b[0;32mif\u001b[0m \u001b[0mengine\u001b[0m \u001b[0;34m==\u001b[0m \u001b[0;34m'c'\u001b[0m\u001b[0;34m:\u001b[0m\u001b[0;34m\u001b[0m\u001b[0m\n\u001b[0;32m-> 1049\u001b[0;31m             \u001b[0mself\u001b[0m\u001b[0;34m.\u001b[0m\u001b[0m_engine\u001b[0m \u001b[0;34m=\u001b[0m \u001b[0mCParserWrapper\u001b[0m\u001b[0;34m(\u001b[0m\u001b[0mself\u001b[0m\u001b[0;34m.\u001b[0m\u001b[0mf\u001b[0m\u001b[0;34m,\u001b[0m \u001b[0;34m**\u001b[0m\u001b[0mself\u001b[0m\u001b[0;34m.\u001b[0m\u001b[0moptions\u001b[0m\u001b[0;34m)\u001b[0m\u001b[0;34m\u001b[0m\u001b[0m\n\u001b[0m\u001b[1;32m   1050\u001b[0m         \u001b[0;32melse\u001b[0m\u001b[0;34m:\u001b[0m\u001b[0;34m\u001b[0m\u001b[0m\n\u001b[1;32m   1051\u001b[0m             \u001b[0;32mif\u001b[0m \u001b[0mengine\u001b[0m \u001b[0;34m==\u001b[0m \u001b[0;34m'python'\u001b[0m\u001b[0;34m:\u001b[0m\u001b[0;34m\u001b[0m\u001b[0m\n",
      "\u001b[0;32m~/anaconda3/lib/python3.6/site-packages/pandas/io/parsers.py\u001b[0m in \u001b[0;36m__init__\u001b[0;34m(self, src, **kwds)\u001b[0m\n\u001b[1;32m   1693\u001b[0m         \u001b[0mkwds\u001b[0m\u001b[0;34m[\u001b[0m\u001b[0;34m'allow_leading_cols'\u001b[0m\u001b[0;34m]\u001b[0m \u001b[0;34m=\u001b[0m \u001b[0mself\u001b[0m\u001b[0;34m.\u001b[0m\u001b[0mindex_col\u001b[0m \u001b[0;32mis\u001b[0m \u001b[0;32mnot\u001b[0m \u001b[0;32mFalse\u001b[0m\u001b[0;34m\u001b[0m\u001b[0m\n\u001b[1;32m   1694\u001b[0m \u001b[0;34m\u001b[0m\u001b[0m\n\u001b[0;32m-> 1695\u001b[0;31m         \u001b[0mself\u001b[0m\u001b[0;34m.\u001b[0m\u001b[0m_reader\u001b[0m \u001b[0;34m=\u001b[0m \u001b[0mparsers\u001b[0m\u001b[0;34m.\u001b[0m\u001b[0mTextReader\u001b[0m\u001b[0;34m(\u001b[0m\u001b[0msrc\u001b[0m\u001b[0;34m,\u001b[0m \u001b[0;34m**\u001b[0m\u001b[0mkwds\u001b[0m\u001b[0;34m)\u001b[0m\u001b[0;34m\u001b[0m\u001b[0m\n\u001b[0m\u001b[1;32m   1696\u001b[0m \u001b[0;34m\u001b[0m\u001b[0m\n\u001b[1;32m   1697\u001b[0m         \u001b[0;31m# XXX\u001b[0m\u001b[0;34m\u001b[0m\u001b[0;34m\u001b[0m\u001b[0m\n",
      "\u001b[0;32mpandas/_libs/parsers.pyx\u001b[0m in \u001b[0;36mpandas._libs.parsers.TextReader.__cinit__\u001b[0;34m()\u001b[0m\n",
      "\u001b[0;32mpandas/_libs/parsers.pyx\u001b[0m in \u001b[0;36mpandas._libs.parsers.TextReader._setup_parser_source\u001b[0;34m()\u001b[0m\n",
      "\u001b[0;31mFileNotFoundError\u001b[0m: File b'Results/RNN/embedding_dimm/embedd_size_stats200.csv' does not exist"
     ]
    }
   ],
   "source": [
    "stats = pd.DataFrame(index=[i for i in range(40)],columns=['type','test','filename','maxEpochs','num_layers','embeddingSize','hiddenDim','train_loss','accuracy','truePos','trueNeg','falsePos','falseNeg','tpr','prec'])\n",
    "\n",
    "# stats = pd.DataFrame(index=[i for i in range(40)],columns=['type','test','filename','n_estimators','accuracy','truePos','trueNeg','falsePos','falseNeg','tpr','prec'])\n",
    "\n",
    "filenames = [\n",
    "    'Results/RNN/hidden_dimm/hidden_dimm_stats0.csv',\n",
    "    'Results/RNN/hidden_dimm/hidden_dimm_stats1.csv',\n",
    "    'Results/RNN/hidden_dimm/hidden_dimm_stats2.csv',\n",
    "    'Results/RNN/hidden_dimm/hidden_dimm_stats3.csv',\n",
    "    'Results/RNN/hidden_dimm/hidden_dimm_stats4.csv',\n",
    "    'Results/RNN/hidden_dimm/hidden_dimm_stats5.csv',\n",
    "    'Results/RNN/hidden_dimm/hidden_dimm_stats6.csv',\n",
    "    'Results/RNN/hidden_dimm/hidden_dimm_stats7.csv',\n",
    "    'Results/RNN/hidden_dimm/hidden_dimm_stats8.csv',\n",
    "    'Results/RNN/hidden_dimm/hidden_dimm_stats9.csv',\n",
    "    \n",
    "    'Results/RNN/embedding_dimm/embedd_size_stats50.csv',\n",
    "    'Results/RNN/embedding_dimm/embedd_size_stats100.csv',\n",
    "    'Results/RNN/embedding_dimm/embedd_size_stats200.csv',\n",
    "    'Results/RNN/embedding_dimm/embedd_size_stats300.csv',\n",
    "    \n",
    "    'Results/RNN/maxEpoch/train_maxEpoch_stats1.csv',\n",
    "    'Results/RNN/maxEpoch/train_maxEpoch_stats100.csv',\n",
    "    'Results/RNN/maxEpoch/train_maxEpoch_stats150.csv',\n",
    "    'Results/RNN/maxEpoch/train_maxEpoch_stats200.csv',\n",
    "    'Results/RNN/maxEpoch/train_maxEpoch_stats250.csv',\n",
    "    'Results/RNN/maxEpoch/train_maxEpoch_stats300.csv',\n",
    "    'Results/RNN/maxEpoch/train_maxEpoch_stats350.csv',\n",
    "    'Results/RNN/maxEpoch/train_maxEpoch_stats400.csv',\n",
    "    'Results/RNN/maxEpoch/train_maxEpoch_stats450.csv',\n",
    "    'Results/RNN/maxEpoch/train_maxEpoch_stats500.csv',\n",
    "    'Results/RNN/maxEpoch/train_maxEpoch_stats1000.csv',\n",
    "    'Results/RNN/maxEpoch/train_maxEpoch_stats2000.csv',\n",
    "    'Results/RNN/maxEpoch/train_maxEpoch_stats3000.csv',\n",
    "    'Results/RNN/maxEpoch/train_maxEpoch_stats4000.csv',\n",
    "    \n",
    "#     'Results/RandomForest/sum/randomFores_1_estimators',\n",
    "#     'Results/RandomForest/sum/randomFores_2_estimators',\n",
    "#     'Results/RandomForest/sum/randomFores_3_estimators',\n",
    "#     'Results/RandomForest/sum/randomFores_4_estimators',\n",
    "#     'Results/RandomForest/sum/randomFores_5_estimators',\n",
    "#     'Results/RandomForest/sum/randomFores_6_estimators',\n",
    "#     'Results/RandomForest/sum/randomFores_7_estimators',\n",
    "#     'Results/RandomForest/sum/randomFores_8_estimators',\n",
    "#     'Results/RandomForest/sum/randomFores_9_estimators',\n",
    "#     'Results/RandomForest/sum/randomFores_10_estimators',\n",
    "#     'Results/RandomForest/sum/randomFores_11_estimators',\n",
    "#     'Results/RandomForest/sum/randomFores_12_estimators',\n",
    "#     'Results/RandomForest/sum/randomFores_13_estimators',\n",
    "#     'Results/RandomForest/sum/randomFores_14_estimators',\n",
    "#     'Results/RandomForest/sum/randomFores_15_estimators',\n",
    "#     'Results/RandomForest/sum/randomFores_16_estimators',\n",
    "#     'Results/RandomForest/sum/randomFores_17_estimators',\n",
    "#     'Results/RandomForest/sum/randomFores_18_estimators',\n",
    "#     'Results/RandomForest/sum/randomFores_19_estimators',\n",
    "#     'Results/RandomForest/sum/randomFores_20_estimators',\n",
    "# #     \n",
    "#     'Results/RandomForest/mean/randomForest_meanNotSum_1_estimators',\n",
    "#     'Results/RandomForest/mean/randomForest_meanNotSum_2_estimators',\n",
    "#     'Results/RandomForest/mean/randomForest_meanNotSum_3_estimators',\n",
    "#     'Results/RandomForest/mean/randomForest_meanNotSum_4_estimators',\n",
    "#     'Results/RandomForest/mean/randomForest_meanNotSum_5_estimators',\n",
    "#     'Results/RandomForest/mean/randomForest_meanNotSum_6_estimators',\n",
    "#     'Results/RandomForest/mean/randomForest_meanNotSum_7_estimators',\n",
    "#     'Results/RandomForest/mean/randomForest_meanNotSum_8_estimators',\n",
    "#     'Results/RandomForest/mean/randomForest_meanNotSum_9_estimators',\n",
    "#     'Results/RandomForest/mean/randomForest_meanNotSum_10_estimators',\n",
    "#     'Results/RandomForest/mean/randomForest_meanNotSum_11_estimators',\n",
    "#     'Results/RandomForest/mean/randomForest_meanNotSum_12_estimators',\n",
    "#     'Results/RandomForest/mean/randomForest_meanNotSum_13_estimators',\n",
    "#     'Results/RandomForest/mean/randomForest_meanNotSum_14_estimators',\n",
    "#     'Results/RandomForest/mean/randomForest_meanNotSum_15_estimators',\n",
    "#     'Results/RandomForest/mean/randomForest_meanNotSum_16_estimators',\n",
    "#     'Results/RandomForest/mean/randomForest_meanNotSum_17_estimators',\n",
    "#     'Results/RandomForest/mean/randomForest_meanNotSum_18_estimators',\n",
    "#     'Results/RandomForest/mean/randomForest_meanNotSum_19_estimators',\n",
    "#     'Results/RandomForest/mean/randomForest_meanNotSum_20_estimators',\n",
    "]\n",
    "i = 0\n",
    "for file in filenames:\n",
    "    df = pd.read_csv(file,index_col=0)\n",
    "    stats.iloc[i]=df.mean()\n",
    "    stats.iloc[i]['type'] = file.split('/')[1]\n",
    "    stats.iloc[i]['test'] = file.split('/')[2]\n",
    "    stats.iloc[i]['filename'] = file.split('/')[3]\n",
    "    stats.iloc[i]['tpr'] = df.mean()['truePos'] / (df.mean()['truePos'] + df.mean()['falseNeg'])\n",
    "    stats.iloc[i]['prec'] = df.mean()['truePos'] / (df.mean()['truePos'] + df.mean()['falsePos'])\n",
    "\n",
    "\n",
    "    i = i+1\n"
   ]
  },
  {
   "cell_type": "code",
   "execution_count": 307,
   "metadata": {},
   "outputs": [
    {
     "data": {
      "text/html": [
       "<div>\n",
       "<style scoped>\n",
       "    .dataframe tbody tr th:only-of-type {\n",
       "        vertical-align: middle;\n",
       "    }\n",
       "\n",
       "    .dataframe tbody tr th {\n",
       "        vertical-align: top;\n",
       "    }\n",
       "\n",
       "    .dataframe thead th {\n",
       "        text-align: right;\n",
       "    }\n",
       "</style>\n",
       "<table border=\"1\" class=\"dataframe\">\n",
       "  <thead>\n",
       "    <tr style=\"text-align: right;\">\n",
       "      <th></th>\n",
       "      <th>type</th>\n",
       "      <th>test</th>\n",
       "      <th>filename</th>\n",
       "      <th>maxEpochs</th>\n",
       "      <th>num_layers</th>\n",
       "      <th>embeddingSize</th>\n",
       "      <th>hiddenDim</th>\n",
       "      <th>train_loss</th>\n",
       "      <th>accuracy</th>\n",
       "      <th>truePos</th>\n",
       "      <th>trueNeg</th>\n",
       "      <th>falsePos</th>\n",
       "      <th>falseNeg</th>\n",
       "      <th>tpr</th>\n",
       "      <th>prec</th>\n",
       "    </tr>\n",
       "  </thead>\n",
       "  <tbody>\n",
       "    <tr>\n",
       "      <th>10</th>\n",
       "      <td>RNN</td>\n",
       "      <td>embedding_dimm</td>\n",
       "      <td>embedd_size_stats50.csv</td>\n",
       "      <td>400</td>\n",
       "      <td>1</td>\n",
       "      <td>50</td>\n",
       "      <td>3</td>\n",
       "      <td>0.016745</td>\n",
       "      <td>0.514583</td>\n",
       "      <td>1.8</td>\n",
       "      <td>10.55</td>\n",
       "      <td>5.2</td>\n",
       "      <td>6.45</td>\n",
       "      <td>0.218182</td>\n",
       "      <td>0.257143</td>\n",
       "    </tr>\n",
       "    <tr>\n",
       "      <th>11</th>\n",
       "      <td>RNN</td>\n",
       "      <td>embedding_dimm</td>\n",
       "      <td>embedd_size_stats100.csv</td>\n",
       "      <td>400</td>\n",
       "      <td>1</td>\n",
       "      <td>100</td>\n",
       "      <td>3</td>\n",
       "      <td>0.00957052</td>\n",
       "      <td>0.514583</td>\n",
       "      <td>2.45</td>\n",
       "      <td>9.9</td>\n",
       "      <td>4.55</td>\n",
       "      <td>7.1</td>\n",
       "      <td>0.256545</td>\n",
       "      <td>0.35</td>\n",
       "    </tr>\n",
       "  </tbody>\n",
       "</table>\n",
       "</div>"
      ],
      "text/plain": [
       "   type            test                  filename maxEpochs num_layers  \\\n",
       "10  RNN  embedding_dimm   embedd_size_stats50.csv       400          1   \n",
       "11  RNN  embedding_dimm  embedd_size_stats100.csv       400          1   \n",
       "\n",
       "   embeddingSize hiddenDim  train_loss  accuracy truePos trueNeg falsePos  \\\n",
       "10            50         3    0.016745  0.514583     1.8   10.55      5.2   \n",
       "11           100         3  0.00957052  0.514583    2.45     9.9     4.55   \n",
       "\n",
       "   falseNeg       tpr      prec  \n",
       "10     6.45  0.218182  0.257143  \n",
       "11      7.1  0.256545      0.35  "
      ]
     },
     "execution_count": 307,
     "metadata": {},
     "output_type": "execute_result"
    }
   ],
   "source": [
    "stats[stats['test'] == 'embedding_dimm']"
   ]
  },
  {
   "cell_type": "code",
   "execution_count": 308,
   "metadata": {},
   "outputs": [
    {
     "name": "stderr",
     "output_type": "stream",
     "text": [
      "/Users/adriencogny/anaconda3/lib/python3.6/site-packages/pandas/plotting/_core.py:1716: UserWarning: Pandas doesn't allow columns to be created via a new attribute name - see https://pandas.pydata.org/pandas-docs/stable/indexing.html#attribute-access\n",
      "  series.name = label\n"
     ]
    },
    {
     "data": {
      "text/plain": [
       "<matplotlib.axes._subplots.AxesSubplot at 0x121fe4748>"
      ]
     },
     "execution_count": 308,
     "metadata": {},
     "output_type": "execute_result"
    },
    {
     "data": {
      "image/png": "[encoded data removed]",
      "text/plain": [
       "<Figure size 432x288 with 1 Axes>"
      ]
     },
     "metadata": {},
     "output_type": "display_data"
    },
    {
     "data": {
      "image/png": "[encoded data removed]",
      "text/plain": [
       "<Figure size 432x288 with 1 Axes>"
      ]
     },
     "metadata": {},
     "output_type": "display_data"
    }
   ],
   "source": [
    "# plt = stats[stats['test'] == 'sum']['truePos'].plot() # create sub-plots for \n",
    "# stats.groupby('test').plot(x='n_estimators',y=['truePos','falsePos'])\n",
    "stats[stats['test'] == 'embedding_dimm'].plot(x='embeddingSize',y=['truePos','falseNeg'])\n",
    "stats[stats['test'] == 'embedding_dimm'].plot(x='embeddingSize',y=['tpr','accuracy'])\n"
   ]
  },
  {
   "cell_type": "code",
   "execution_count": null,
   "metadata": {},
   "outputs": [],
   "source": []
  },
  {
   "cell_type": "code",
   "execution_count": null,
   "metadata": {},
   "outputs": [],
   "source": []
  }
 ],
 "metadata": {
  "kernelspec": {
   "display_name": "Python 3",
   "language": "python",
   "name": "python3"
  },
  "language_info": {
   "codemirror_mode": {
    "name": "ipython",
    "version": 3
   },
   "file_extension": ".py",
   "mimetype": "text/x-python",
   "name": "python",
   "nbconvert_exporter": "python",
   "pygments_lexer": "ipython3",
   "version": "3.6.5"
  }
 },
 "nbformat": 4,
 "nbformat_minor": 2
}
